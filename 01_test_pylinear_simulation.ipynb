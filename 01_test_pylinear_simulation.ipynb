{
 "cells": [
  {
   "cell_type": "markdown",
   "metadata": {},
   "source": [
    "# pyLINEAR: Simulation (Demo)\n",
    "\n",
    "## By: Russell Ryan and Kornpob Bhirombhakdi\n",
    "\n",
    "This Notebook demonstrates how to implement pyLINEAR (cite: ???) for simulating grism images from a direct image. In this demo, we assume that you have installed packages associated to pyLINEAR including i) polyclip, ii) h5axeconfig, and iii) pyLINEAR. You can download the packages from https://github.com/Russell-Ryan, and follow the instruction for the installation, and their documentation. After installing the packages (and other dependencies), please download the this Notebook's folder. We recommend using Anaconda/Python3 environment for using this Notebook as well as the pyLINEAR.\n",
    "\n",
    "In this folder, files include:\n",
    "\n",
    "- 01_test_pylinear_simulation.ipynb = this Notebook\n",
    "\n",
    "- img.fits = simulated direct image. This image have two gaussian sources at physical x-y pixels about (2800,2000) and (2800,1500). We will simulate a grism image associated to this direct image.\n",
    "\n",
    "- obs.lst = information of direct images. This is a two-column text file with space delimiter. For each row, the first column specifies a direct image file, and the second column specifies its associated telescope/filter file (*.filt file included with h5axeconfig package, which can also be found in the STScI resources). In this demo, we assume the direct image img.fits was taken from HST/WFC3-F105W. If you have more than one direct images, simply add another lines.\n",
    "\n",
    "- sed.lst = list of SED models to be simulated. This is a three-column text file with space delimiter. The first column identifies sources ID (in integer only). The second column identifies the path to the associated SED model file (which is a space-delimited text file with two columns: wavelength (in A) and flam (in erg/s/cm^2/A). This demo will generate the SED models: sed1.dat and sed2.dat. Note that we have two sources in img.fits, therefore we provide two SED models in sed.lst. The third column specifies redshift.\n",
    "\n",
    "- wcs.lst = list of grism orientations to be simulated. This has four columns with space delimiter. The first columnn identifies the prefix (e.g., A) to the output grism image (e.g., A_flt.fits). The second to last columns identifies the orientation of the telescope, i.e., (CRVAL1, CRVAL2) and rotation.\n",
    "\n",
    "- defaults.yml = configuration file of pyLINEAR.\n",
    "\n",
    "Unlike the other files provided in this folder, defaults.yml must be copied (or edited) manually to the local library of pyLINEAR, e.g., '/Users/kbhirombhakdi/anaconda2/envs/py3/lib/python3.7/site-packages/pylinear-1.0-py3.7.egg/pylinear/config/defaults.yml'. Please see ??? for details about the configuration file. Note that, as specified in the configuration file, we will simulate grism images from HST/WFC3-IR-G102 using the HST/WFC3-F105W direct image (img.fits). We will do only simulation, so make sure setting 'perform: true' and 'gzip: false' in the simuation section, and 'perform: false' in both extraction and cutout sections.\n",
    "\n",
    "To start this demo, run this Notebook from its root."
   ]
  },
  {
   "cell_type": "code",
   "execution_count": 1,
   "metadata": {},
   "outputs": [
    {
     "name": "stderr",
     "output_type": "stream",
     "text": [
      "WARNING: AstropyDeprecationWarning: Composition of model classes will be removed in 4.0 (but composition of model instances is not affected) [astropy.modeling.core]\n"
     ]
    }
   ],
   "source": [
    "from astropy.convolution import Gaussian2DKernel\n",
    "from astropy.io import fits\n",
    "from astropy.stats import gaussian_fwhm_to_sigma\n",
    "import csv\n",
    "import matplotlib.pyplot as plt\n",
    "import numpy as np\n",
    "import os\n",
    "from photutils import detect_threshold,detect_sources\n",
    "import pylinear"
   ]
  },
  {
   "cell_type": "code",
   "execution_count": 2,
   "metadata": {},
   "outputs": [
    {
     "name": "stdout",
     "output_type": "stream",
     "text": [
      "rm: A_flt.fits: No such file or directory\n",
      "rm: B_flt.fits: No such file or directory\n"
     ]
    }
   ],
   "source": [
    "# get root directory, and remove outputs from previous run\n",
    "cwd = os.getcwd() \n",
    "!rm sed1.dat \n",
    "!rm sed2.dat\n",
    "!rm seg.fits\n",
    "!rm A_flt.fits\n",
    "!rm B_flt.fits\n",
    "!rm linear.log\n",
    "!rm -r TABLES"
   ]
  },
  {
   "cell_type": "code",
   "execution_count": 3,
   "metadata": {},
   "outputs": [],
   "source": [
    "# generate SED models\n",
    "# Note that G102 bandwidth is [7500,12500] A with resolution 25 A/pix\n",
    "\n",
    "x = np.arange(start=7500,stop=12550,step=50) # wavelength grids with resolution 50 A/pix\n",
    "y1 = np.ones(shape=x.shape) # SED model 1\n",
    "y2 = np.linspace(start=10,stop=1,num=len(x)) # SED model 2\n",
    "\n",
    "# Save SED models\n",
    "with open('./sed1.dat', mode='w') as out:\n",
    "    writer = csv.writer(out, delimiter=' ', quotechar='#', quoting=csv.QUOTE_MINIMAL)\n",
    "    for i in np.arange(len(x)):\n",
    "        writer.writerow([x[i], y1[i]])\n",
    "out.close()   \n",
    "\n",
    "with open('./sed2.dat', mode='w') as out:\n",
    "    writer = csv.writer(out, delimiter=' ', quotechar='#', quoting=csv.QUOTE_MINIMAL)\n",
    "    for i in np.arange(len(x)):\n",
    "        writer.writerow([x[i], y2[i]])\n",
    "out.close()  "
   ]
  },
  {
   "cell_type": "code",
   "execution_count": 4,
   "metadata": {},
   "outputs": [],
   "source": [
    "# Create segmentation map\n",
    "\n",
    "x = fits.open('img.fits')\n",
    "data = x[0].data\n",
    "\n",
    "threshold = detect_threshold(data,snr=2.) # identify detection threshold over background\n",
    "\n",
    "# Create a kernel for filtering sources in the detection algorithm\n",
    "# Use a 2D gaussian kernel with FWHM = 3 pix\n",
    "sigma = 3. * gaussian_fwhm_to_sigma # FWHM = 3 pixels\n",
    "kernel = Gaussian2DKernel(sigma,x_size=3,y_size=3) # instantiate 2D gaussian kernel\n",
    "kernel.normalize() # normalization\n",
    "\n",
    "# Detect sources\n",
    "# Output as a segmentation map\n",
    "segm = detect_sources(data,threshold,npixels=5,filter_kernel=kernel)"
   ]
  },
  {
   "cell_type": "code",
   "execution_count": 5,
   "metadata": {},
   "outputs": [
    {
     "data": {
      "image/png": "[encoded data removed]",
      "text/plain": [
       "<Figure size 1440x720 with 2 Axes>"
      ]
     },
     "metadata": {
      "needs_background": "light"
     },
     "output_type": "display_data"
    }
   ],
   "source": [
    "# Plot the direct image and segmentation map\n",
    "fig,ax = plt.subplots(1,2,figsize=(20,10))\n",
    "ax[0].imshow(fits.open('img.fits')[0].data,origin='lower',cmap='viridis',vmin=0)\n",
    "ax[1].imshow(segm,origin='lower',cmap=segm.cmap(random_state=12345))\n",
    "\n",
    "# Set to zoom in the source region\n",
    "dx = 300\n",
    "dy = 300\n",
    "x = 2800\n",
    "y = 1750\n",
    "ax[0].set_xlim(x-dx,x+dx),ax[1].set_xlim(x-dx,x+dx)\n",
    "ax[0].set_ylim(y-dy,y+dy),ax[1].set_ylim(y-dy,y+dy)\n",
    "\n",
    "plt.show()"
   ]
  },
  {
   "cell_type": "code",
   "execution_count": 6,
   "metadata": {},
   "outputs": [],
   "source": [
    "# Save the segmentation map\n",
    "# Note: the segmentation file must be a fits file with the direct image's header\n",
    "x = fits.open('img.fits')\n",
    "x[0].data = segm.data\n",
    "x.writeto('seg.fits',overwrite=True)\n",
    "x.close()"
   ]
  },
  {
   "cell_type": "markdown",
   "metadata": {},
   "source": [
    "In the segmentation map, we see two sources with pixel values = 1 or 2 for sources, and = 0 for background. This can be easily seen by using a fits viewer like DS9. The pixel values in seg.fits are considered as the source IDs.\n",
    "\n",
    "NOTE: recall that the first column of sed.lst specifies source IDs with their corresponding SED models. Make sure that the source IDs are mapped consistently between sed.lst and seg.fits."
   ]
  },
  {
   "cell_type": "code",
   "execution_count": 7,
   "metadata": {
    "scrolled": true
   },
   "outputs": [
    {
     "name": "stdout",
     "output_type": "stream",
     "text": [
      "\n",
      "\n",
      "    Linear Extraction and Simulation of Slitless Spectroscopy\n",
      "\n",
      "           by: Russell Ryan\n",
      "\n",
      "     citation: http://adsabs.harvard.edu/abs/2018PASP..130c4501R\n",
      "      version: 1.0\n",
      "      contact: rryan@stsci.edu\n",
      "\n",
      "# Configuration for pyLINEAR\n",
      "\n",
      "cpu: &CPU\n",
      "  ncpu: 1                                # number of processors to use\n",
      "  verbose: True\n",
      "\n",
      "calib: &CALIB\n",
      "  h5conf: hst_wfc3_ir_beams.h5           # HDF5 file for beam info\n",
      "  h5flat: Null                           # HDF5 file for flat field\n",
      "  h5siaf: hst_wfc3_ir_detector.h5        # HDF5 file for detectors\n",
      "tables: &TABLES\n",
      "  path: TABLES/                          # relative path for the tables\n",
      "  remake: True\n",
      "  gzip: True                             # gzip the resulting data\n",
      "  nsub: 5                                # number of intervals for TrapZ\n",
      "  cpu: *CPU\n",
      "                                         # import CPU settings\n",
      "sources:\n",
      "  segmap: seg.fits                       # segmentation map for sources\n",
      "  obslst: obs.lst                        # file describing the bands\n",
      "  detindex: 0                            # detection index in obslst\n",
      "  maglim: 26.                            # magnitude limit of sources\n",
      "\n",
      "modules:\n",
      "  simulation:\n",
      "    perform: True\n",
      "    beam: A\n",
      "    grism: G102\n",
      "    imgtype: wcs   # wcs or img\n",
      "    gzip: False\n",
      "    imglst: wcs.lst\n",
      "    sedlst: sed.lst\n",
      "    noise:\n",
      "      perform: False\n",
      "      exptime: 700.\n",
      "      skyrate: 0.3\n",
      "    cpu: *CPU\n",
      "    calib: *CALIB\n",
      "    tables: *TABLES\n",
      "\n",
      "  extraction:\n",
      "    perform: False\n",
      "    mode: golden\n",
      "    logdamp: [-6., -1., 0.1]\n",
      "    outroot: test\n",
      "    imglst: flt.lst\n",
      "    beam: A\n",
      "    mask: Null\n",
      "    lamb0: 7500.\n",
      "    lamb1: 12500.\n",
      "    dlamb: 25.\n",
      "    lsqr:\n",
      "      atol: 1e-10\n",
      "      btol: 1e-10\n",
      "      conlim: 1e10\n",
      "      maxiter: 1e5\n",
      "    cpu: *CPU\n",
      "    calib: *CALIB\n",
      "    tables: *TABLES\n",
      "    mcmcunc:\n",
      "      perform: False\n",
      "      nwalkers: 100\n",
      "      nstep: 100\n",
      "      burn: 0.2\n",
      "    residuals:\n",
      "      perform: True\n",
      "      gzip: False\n",
      "\n",
      "  cutout:\n",
      "    perform: False\n",
      "    beam: A\n",
      "    #grism: G102\n",
      "    imglst: flt.lst\n",
      "    padding: [0, 2]\n",
      "    cpu: *CPU\n",
      "    calib: *CALIB\n",
      "\n",
      "\n",
      "loading broadband phototmetry\n",
      "loading simulated grism images\n",
      "Serial processing\n",
      "Serial processing\n",
      "writing simulated image A_flt.fits\n",
      "writing simulated image B_flt.fits\n",
      "runtime:  0.0d 0.0h 0.0m 6.0s\n"
     ]
    }
   ],
   "source": [
    "!pylinear # running pyLINEAR"
   ]
  },
  {
   "cell_type": "markdown",
   "metadata": {},
   "source": [
    "pyLINEAR will output:\n",
    "\n",
    "- A_flt.fits and B_flt.fits: these are grism images specified in wcs.lst\n",
    "- linear.log: a log file\n",
    "- TABLES: provides details for each grism image"
   ]
  },
  {
   "cell_type": "code",
   "execution_count": 8,
   "metadata": {},
   "outputs": [
    {
     "data": {
      "image/png": "[encoded data removed]",
      "text/plain": [
       "<Figure size 2160x720 with 3 Axes>"
      ]
     },
     "metadata": {
      "needs_background": "light"
     },
     "output_type": "display_data"
    }
   ],
   "source": [
    "# Plot the direct image and two grism ones\n",
    "# NOTE: showing these images with DS9, matching them with WCS, and blinking them is recommended to see how the sources are dispersed\n",
    "\n",
    "fig,ax = plt.subplots(1,3,figsize=(30,10))\n",
    "\n",
    "x = fits.open('img.fits')\n",
    "ax[0].imshow(x[0].data,cmap='viridis',origin='lower',vmin=0,vmax=0.1)\n",
    "\n",
    "x = fits.open('A_flt.fits')\n",
    "ax[1].imshow(x['SCI'].data,cmap='viridis',origin='lower')\n",
    "\n",
    "x = fits.open('B_flt.fits')\n",
    "ax[2].imshow(x['SCI'].data,cmap='viridis',origin='lower',vmin=0,vmax=0.1)\n",
    "\n",
    "plt.show()"
   ]
  },
  {
   "cell_type": "code",
   "execution_count": null,
   "metadata": {},
   "outputs": [],
   "source": []
  }
 ],
 "metadata": {
  "kernelspec": {
   "display_name": "Python 3",
   "language": "python",
   "name": "python3"
  },
  "language_info": {
   "codemirror_mode": {
    "name": "ipython",
    "version": 3
   },
   "file_extension": ".py",
   "mimetype": "text/x-python",
   "name": "python",
   "nbconvert_exporter": "python",
   "pygments_lexer": "ipython3",
   "version": "3.7.3"
  }
 },
 "nbformat": 4,
 "nbformat_minor": 2
}
